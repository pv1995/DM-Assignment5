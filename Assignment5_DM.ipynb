{
  "cells": [
    {
      "cell_type": "markdown",
      "source": [
        "### Question 1\n",
        "\n",
        "To calculate the probability that patient X actually has Parkinson's disease, we need to use Bayes' theorem.\n",
        "\n",
        "Defining the events:\n",
        "\n",
        "- A: patient X has Parkinson's disease\n",
        "- B: the classifier has detected Parkinson's disease for patient X\n",
        "\n",
        "We want to calculate P(A|B), which is the probability of patient X having Parkinson's disease.\n",
        "\n",
        "Bayes' theorem states that:\n",
        "```\n",
        "P(A|B) = P(B|A) * P(A) / P(B)\n",
        "```\n",
        "where,\n",
        "- P(B|A) is the probability of the classifier detecting Parkinson's disease given that the patient actually has Parkinson's disease \n",
        "- P(A) is the prior probability of a patient having Parkinson's disease (which we know is 0.1 or 10%) \n",
        "- P(B) is the probability of the classifier detecting Parkinson's disease (which we need to calculate)\n",
        "- P(B|not A) is the probability of the classifier detecting Parkinson's disease given that the patient does not have Parkinson's disease (which can be calculated as 1 - classifier accuracy, or 0.1 in this case).\n",
        "\n",
        "To calculate P(B), we can use the law of total probability:\n",
        "```\n",
        "P(B) = P(B|A) * P(A) + P(B|not A) * P(not A)\n",
        "```\n",
        "where P(not A) is the probability of a patient not having Parkinson's disease (which is 0.9 or 90%).\n",
        "\n",
        "Plugging in the values we have:\n",
        "```\n",
        "P(A|B) = P(B|A) * P(A) / P(B)\n",
        "\n",
        "P(A|B) = 0.9 * 0.1 / (0.9 * 0.1 + 0.1 * 0.9)\n",
        "\n",
        "P(A|B) = 0.5\n",
        "```\n",
        "So the probability that patient X actually has Parkinson's disease is 50% even though the given classifier has detectes Parkinson's disease with a 90% accuracy.\n"
      ],
      "metadata": {
        "id": "g2oV5ciuEk5N"
      }
    },
    {
      "cell_type": "markdown",
      "source": [
        "### Question 2 - part a"
      ],
      "metadata": {
        "id": "wlE_4BVCEia_"
      }
    },
    {
      "cell_type": "markdown",
      "source": [
        "To find the derivative of the sigmoid function, we need to differentiate the function σ(z) with respect to z:\n",
        "\n",
        "- σ(z) = 1 / (1 + exp(-z))\n",
        "\n",
        "Using the quotient rule to differentiate:\n",
        "\n",
        "```\n",
        "∇zσ(z) = d/dz [1 / (1 + exp(-z))] \n",
        "       = [d/dz(1) * (1 + exp(-z)) - 1 * d/dz(1 + exp(-z))]/ (1 + exp(-z))^2\n",
        "```\n",
        "\n",
        "We can simplify the denominator by multiplying both the numerator and denominator by exp(z):\n",
        "```\n",
        "∇zσ(z) = [0 * (1 + exp(-z)) - (-exp(-z)) * exp(z)] / (1 + exp(-z))^2\n",
        "∇zσ(z) = exp(-z) / (1 + exp(-z))^2\n",
        "```\n",
        "Simplifying the numerator:\n",
        "```\n",
        "exp(-z) = 1 / exp(z)\n",
        "∇zσ(z) = 1 / (exp(z) * (1 + exp(-z))^2)\n",
        "```\n",
        "Simplifying the denominator:\n",
        "```\n",
        "(1 + exp(-z))^2 = (1 + exp(-z)) * (1 + exp(-z))\n",
        "(1 + exp(-z)) * (1 + exp(-z)) = 1 + 2exp(-z) + exp(-2z)\n",
        "```\n",
        "Substituting this back into the original equation:\n",
        "```\n",
        "∇zσ(z) = 1 / (exp(z) * (1 + 2exp(-z) + exp(-2z)))\n",
        "```\n",
        "\n",
        "Simplify the above equation using \n",
        "- σ(z) = 1 / (1 + exp(-z))\n",
        "\n",
        "```\n",
        "∇zσ(z) = σ(z) * (1 - σ(z))\n",
        "```\n",
        "\n",
        "This proves that the derivative of the sigmoid function is \n",
        "```\n",
        "∇zσ(z) = σ(z) (1 − σ(z))\n",
        "```"
      ],
      "metadata": {
        "id": "MiYHeiv2HLBE"
      }
    },
    {
      "cell_type": "markdown",
      "source": [
        "### Question 2 - part b"
      ],
      "metadata": {
        "id": "XhB1jIX0EV6N"
      }
    },
    {
      "cell_type": "code",
      "source": [
        "import numpy as np\n",
        "import matplotlib.pyplot as plt\n",
        "import pandas as pd\n",
        "\n",
        "train_df = pd.read_csv(\"titanic.train.csv\")\n",
        "test_df = pd.read_csv(\"titanic.test.csv\")\n"
      ],
      "metadata": {
        "id": "ZzOPfdHoHRyI"
      },
      "execution_count": 44,
      "outputs": []
    },
    {
      "cell_type": "code",
      "source": [
        "train_df.isnull().sum()"
      ],
      "metadata": {
        "colab": {
          "base_uri": "https://localhost:8080/"
        },
        "id": "NJmKzxxc8Yjv",
        "outputId": "14fc0206-30f2-4059-fa7b-3973748f9dd1"
      },
      "execution_count": 65,
      "outputs": [
        {
          "output_type": "execute_result",
          "data": {
            "text/plain": [
              "pclass         0\n",
              "survived       0\n",
              "name           0\n",
              "sex            0\n",
              "age          193\n",
              "sibsp          0\n",
              "parch          0\n",
              "ticket         0\n",
              "fare           1\n",
              "cabin        702\n",
              "embarked       1\n",
              "boat         551\n",
              "body         809\n",
              "home.dest    399\n",
              "dtype: int64"
            ]
          },
          "metadata": {},
          "execution_count": 65
        }
      ]
    },
    {
      "cell_type": "code",
      "source": [
        "def sigmoid(x):\n",
        "    return 1 / (1 + np.exp(-x))\n",
        "\n",
        "def logistic_regression(X, w):\n",
        "    z = np.dot(X, w)\n",
        "    return sigmoid(z)\n"
      ],
      "metadata": {
        "id": "sxBabpXF0x8A"
      },
      "execution_count": 68,
      "outputs": []
    },
    {
      "cell_type": "code",
      "source": [
        "# Preprocess the training data to fall between 0 and 1\n",
        "train_data = train_df.copy()\n",
        "train_data[\"age\"].fillna(train_df[\"age\"].median(skipna=True), inplace=True)\n",
        "train_data[\"fare\"].fillna(train_df[\"fare\"].median(skipna=True), inplace=True)\n",
        "train_data[\"embarked\"].fillna(train_df['embarked'].value_counts().idxmax(), inplace=True)\n",
        "train_data.drop('cabin', axis=1, inplace=True)\n",
        "train_data.drop('boat', axis=1, inplace=True)\n",
        "train_data.drop('body', axis=1, inplace=True)\n",
        "train_data.drop('home.dest', axis=1, inplace=True)\n",
        "train_data.drop('name', axis=1, inplace=True)\n",
        "train_data.drop('ticket', axis=1, inplace=True)\n",
        "# train_data['travelAlone']=np.where((train_data[\"sibsp\"]+train_data[\"parch\"])>0, 0, 1.0)\n",
        "# train_data.drop('sibsp', axis=1, inplace=True)\n",
        "# train_data.drop('parch', axis=1, inplace=True)\n",
        "train_data['isMinor']=np.where(train_data['age']<=16, 1, 0)\n",
        "y = train_data[\"survived\"].to_numpy()\n",
        "train_data.drop('survived', axis=1, inplace=True)\n",
        "training=pd.get_dummies(train_data, columns=[\"pclass\",\"embarked\",\"sex\"])\n",
        "training = training.to_numpy()\n",
        "training"
      ],
      "metadata": {
        "colab": {
          "base_uri": "https://localhost:8080/"
        },
        "id": "2ZmissxsLZEJ",
        "outputId": "9ee63dc9-7f55-4626-cf52-974b847f764e"
      },
      "execution_count": 81,
      "outputs": [
        {
          "output_type": "execute_result",
          "data": {
            "text/plain": [
              "array([[29. ,  0. ,  0. , ...,  1. ,  0. ,  1. ],\n",
              "       [ 8. ,  1. ,  1. , ...,  1. ,  1. ,  0. ],\n",
              "       [22. ,  1. ,  0. , ...,  1. ,  1. ,  0. ],\n",
              "       ...,\n",
              "       [28. ,  0. ,  0. , ...,  1. ,  0. ,  1. ],\n",
              "       [38.5,  0. ,  0. , ...,  1. ,  0. ,  1. ],\n",
              "       [22. ,  0. ,  0. , ...,  0. ,  0. ,  1. ]])"
            ]
          },
          "metadata": {},
          "execution_count": 81
        }
      ]
    },
    {
      "cell_type": "code",
      "source": [
        "train_data.isnull().sum()"
      ],
      "metadata": {
        "colab": {
          "base_uri": "https://localhost:8080/"
        },
        "id": "Vr_uR1T88alu",
        "outputId": "7ef0c3ed-91f9-4a0b-8621-5605379c4f4f"
      },
      "execution_count": 82,
      "outputs": [
        {
          "output_type": "execute_result",
          "data": {
            "text/plain": [
              "pclass      0\n",
              "sex         0\n",
              "age         0\n",
              "sibsp       0\n",
              "parch       0\n",
              "fare        0\n",
              "embarked    0\n",
              "isMinor     0\n",
              "dtype: int64"
            ]
          },
          "metadata": {},
          "execution_count": 82
        }
      ]
    },
    {
      "cell_type": "code",
      "source": [
        "# Normalize the data \n",
        "mean = np.mean(training, axis=0)\n",
        "std = np.std(training, axis=0)\n",
        "X = (training - mean) / std\n",
        "\n",
        "# Add a column of 1s to X for the bias term\n",
        "X = np.hstack((np.ones((X.shape[0], 1)), X))\n",
        "\n",
        "# Initialize the weights\n",
        "w = np.zeros(X.shape[1])\n",
        "\n",
        "# Set the learning rate and number of iterations\n",
        "lr = 0.05\n",
        "num_iter = 1500\n",
        "loss_history = []\n",
        "# Train the model using gradient descent\n",
        "for i in range(num_iter):\n",
        "    # Calculate the predicted probabilities\n",
        "    y_pred = logistic_regression(X, w)\n",
        "    # Calculate the gradient of the loss function\n",
        "    gradient = np.dot(X.T, (y_pred - y)) / y.size\n",
        "    # Update the weights\n",
        "    w -= lr * gradient\n",
        "    loss = np.mean(-y * np.log(y_pred) - (1 - y) * np.log(1 - y_pred))\n",
        "#         # Append the loss to the history\n",
        "    loss_history.append(loss)\n"
      ],
      "metadata": {
        "id": "PuN6-P5711iW"
      },
      "execution_count": 83,
      "outputs": []
    },
    {
      "cell_type": "code",
      "source": [
        "test_data = test_df.copy()\n",
        "test_data[\"age\"].fillna(train_df[\"age\"].median(skipna=True), inplace=True)\n",
        "test_data[\"fare\"].fillna(train_df[\"fare\"].median(skipna=True), inplace=True)\n",
        "test_data[\"embarked\"].fillna(train_df['embarked'].value_counts().idxmax(), inplace=True)\n",
        "test_data.drop('cabin', axis=1, inplace=True)\n",
        "test_data.drop('boat', axis=1, inplace=True)\n",
        "test_data.drop('body', axis=1, inplace=True)\n",
        "test_data.drop('home.dest', axis=1, inplace=True)\n",
        "test_data.drop('name', axis=1, inplace=True)\n",
        "test_data.drop('ticket', axis=1, inplace=True)\n",
        "# test_data['travelAlone']=np.where((test_data[\"sibsp\"]+test_data[\"parch\"])>0, 0, 1)\n",
        "# test_data.drop('sibsp', axis=1, inplace=True)\n",
        "# test_data.drop('parch', axis=1, inplace=True)\n",
        "test_data['isMinor']=np.where(test_data['age']<=16, 1, 0)\n",
        "y_test = test_data[\"survived\"].to_numpy()\n",
        "test_data.drop('survived', axis=1, inplace=True)\n",
        "testing=pd.get_dummies(test_data, columns=[\"pclass\",\"embarked\",\"sex\"])\n",
        "testing = testing.to_numpy()\n",
        "testing\n",
        "\n",
        "mean_test = np.mean(testing, axis=0)\n",
        "std_test = np.std(testing, axis=0)\n",
        "X_test = (testing - mean_test) / std_test\n",
        "\n",
        "X_test = np.hstack((np.ones((X_test.shape[0], 1)), X_test))\n",
        "\n",
        "# Make predictions on the test data\n",
        "y_pred_test = np.round(logistic_regression(X_test, w))\n",
        "\n",
        "accuracy = np.mean(y_pred_test == y_test)\n",
        "print('Accuracy: %.2f%%' % (accuracy * 100))\n"
      ],
      "metadata": {
        "colab": {
          "base_uri": "https://localhost:8080/"
        },
        "id": "gh5SjoRB2hrC",
        "outputId": "f5a3d791-5ad7-41b0-c49c-b4e11221655f"
      },
      "execution_count": 84,
      "outputs": [
        {
          "output_type": "stream",
          "name": "stdout",
          "text": [
            "Accuracy: 80.62%\n"
          ]
        }
      ]
    },
    {
      "cell_type": "code",
      "source": [
        "plt.plot(loss_history)\n",
        "plt.xlabel('Epoch')\n",
        "plt.ylabel('Loss')\n",
        "plt.title('Loss Curve')\n",
        "plt.show()"
      ],
      "metadata": {
        "colab": {
          "base_uri": "https://localhost:8080/",
          "height": 295
        },
        "id": "7-k59zkA-Jmu",
        "outputId": "9e938738-6f8f-49d9-ba5f-6f6a3f27349a"
      },
      "execution_count": 85,
      "outputs": [
        {
          "output_type": "display_data",
          "data": {
            "text/plain": [
              "<Figure size 432x288 with 1 Axes>"
            ],
            "image/png": "[encoded data removed]"
          },
          "metadata": {
            "needs_background": "light"
          }
        }
      ]
    },
    {
      "cell_type": "markdown",
      "source": [
        "### Question 2 - part c"
      ],
      "metadata": {
        "id": "S8KL4sK1Ef3w"
      }
    },
    {
      "cell_type": "code",
      "source": [
        "# Import the necessary libraries\n",
        "from keras.models import Sequential\n",
        "from keras.layers import Dense\n",
        "\n",
        "# Define the model architecture\n",
        "model = Sequential()\n",
        "model.add(Dense(1, activation='sigmoid', input_dim=X.shape[1]))\n",
        "\n",
        "# Compile the model\n",
        "model.compile(loss='binary_crossentropy', optimizer='adam', metrics=['accuracy'])\n",
        "\n",
        "# Train the model\n",
        "model.fit(X, y, epochs=100, batch_size=32, verbose=0)\n",
        "\n",
        "# Evaluate the model on the test data\n",
        "loss, accuracy = model.evaluate(X_test, y_test, verbose=0)\n",
        "y_pred = np.round(model.predict(X_test))\n",
        "\n",
        "# Print the results\n",
        "print('Accuracy: %.2f%%' % (accuracy * 100))\n",
        "\n"
      ],
      "metadata": {
        "id": "KB9B9r_PSq7y",
        "colab": {
          "base_uri": "https://localhost:8080/"
        },
        "outputId": "3686c437-753a-49b0-8dc6-5d384f022264"
      },
      "execution_count": 86,
      "outputs": [
        {
          "output_type": "stream",
          "name": "stdout",
          "text": [
            "14/14 [==============================] - 0s 2ms/step\n",
            "Accuracy: 80.14%\n"
          ]
        }
      ]
    },
    {
      "cell_type": "markdown",
      "source": [
        "### Neural Architecture\n",
        "```\n",
        "                     Input Layer\n",
        "                          |\n",
        "      |------|-----|------|------|-----|------|---------|\n",
        "    pclass  sex   age   sibsp  parch  fare embarked  isMinor\n",
        "     |_________________________________________________|\n",
        "                \\                        /\n",
        "                 \\______________________/\n",
        "                            |      \n",
        "                        Dense Layer \n",
        "                        (Sigmoid)\n",
        "                            |\n",
        "                  Probability of Survival\n",
        "```"
      ],
      "metadata": {
        "id": "3J1l4qtVJQ8C"
      }
    },
    {
      "cell_type": "code",
      "source": [],
      "metadata": {
        "id": "7CdXIImwNpUY"
      },
      "execution_count": null,
      "outputs": []
    }
  ],
  "metadata": {
    "colab": {
      "provenance": []
    },
    "kernelspec": {
      "display_name": "Python 3",
      "name": "python3"
    },
    "language_info": {
      "name": "python"
    }
  },
  "nbformat": 4,
  "nbformat_minor": 0
}